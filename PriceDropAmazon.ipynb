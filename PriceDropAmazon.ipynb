{
 "cells": [
  {
   "cell_type": "code",
   "execution_count": 25,
   "metadata": {},
   "outputs": [
    {
     "name": "stdout",
     "output_type": "stream",
     "text": [
      "HEY EMAIL HAS BEEN SENT!\n",
      "1.929\n",
      "Sony Alpha 7M3 E-Mount Vollformat Digitalkamera ILCE-7M3 (24,2 Megapixel, 7,6cm (3 Zoll) Touch-Display, Exmor R CMOS Vollformatsensor, XGA OLED Sucher, 2 Kartenslots, nur Gehäuse) schwarz\n"
     ]
    }
   ],
   "source": [
    "import requests\n",
    "from bs4 import BeautifulSoup\n",
    "import smtplib\n",
    "import \n",
    "\n",
    "#webscriping\n",
    "URL = 'https://www.amazon.de/Sony-Digitalkamera-Touch-Display-Vollformatsensor-Kartenslots/dp/B07B4L1PQ8/ref=sr_1_5?__mk_de_DE=%C3%85M%C3%85%C5%BD%C3%95%C3%91&keywords=sony+a7&qid=1576282339&sr=8-5'\n",
    "\n",
    "\n",
    "headers = {\"User-Agent\": 'Mozilla/5.0 (X11; Ubuntu; Linux x86_64; rv:71.0) Gecko/20100101 Firefox/71.0'}\n",
    "\n",
    "\n",
    "def check_price():\n",
    "\n",
    "    page = requests.get(URL, headers=headers)\n",
    "\n",
    "    soup = BeautifulSoup(page.content, 'html.parser')\n",
    "\n",
    "    #print(soup.prettify())\n",
    "\n",
    "    title = soup.find(id=\"productTitle\").get_text()\n",
    "    price = soup.find(id =\"priceblock_ourprice\").get_text()\n",
    "    converted_price = float(price[0:5])\n",
    "\n",
    "    if (converted_price < 1700):\n",
    "        send_mail()\n",
    "\n",
    "    print(converted_price)\n",
    "    print(title.strip())\n",
    "    \n",
    "    \n",
    "    if (converted_price > 1700):\n",
    "        send_mail()\n",
    "    \n",
    "\n",
    "    \n",
    "def send_mail():\n",
    "    \n",
    "    server = smtplib.SMTP('smtp.gmail.com', 587)\n",
    "    server.ehlo()\n",
    "    server.starttls()\n",
    "    server.ehlo()\n",
    "    \n",
    "    server.login('ffamaizo@gmail.com', 'fsjohsajcowprknx')\n",
    "    subject = 'Price fell down!'\n",
    "    myboby = \"Check the amazon link https://www.amazon.de/Sony-Digitalkamera-Touch-Display-Vollformatsensor-Kartenslots/dp/B07B4L1PQ8/ref=sr_1_5?__mk_de_DE=%C3%85M%C3%85%C5%BD%C3%95%C3%91&keywords=sony+a7&qid=1576282339&sr=8-5\"\n",
    "    \n",
    "    msg = f\"Subject: {subject}\\n\\n{myboby}\"\n",
    "    \n",
    "    server.sendmail(\n",
    "        'ffamaizo@gmail.com',\n",
    "        'ffamaizo@gmail.com',\n",
    "        msg\n",
    "    )\n",
    "    \n",
    "    print('HEY EMAIL HAS BEEN SENT!')\n",
    "    \n",
    "    server.quit()\n",
    "    \n",
    "\n",
    "while(True):  \n",
    "    check_price()\n",
    "    time.sleep(60 * 60)\n",
    "\n"
   ]
  },
  {
   "cell_type": "code",
   "execution_count": null,
   "metadata": {},
   "outputs": [],
   "source": []
  }
 ],
 "metadata": {
  "kernelspec": {
   "display_name": "Python 3",
   "language": "python",
   "name": "python3"
  },
  "language_info": {
   "codemirror_mode": {
    "name": "ipython",
    "version": 3
   },
   "file_extension": ".py",
   "mimetype": "text/x-python",
   "name": "python",
   "nbconvert_exporter": "python",
   "pygments_lexer": "ipython3",
   "version": "3.7.3"
  }
 },
 "nbformat": 4,
 "nbformat_minor": 2
}
