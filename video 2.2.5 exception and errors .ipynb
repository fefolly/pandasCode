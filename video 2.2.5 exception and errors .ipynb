{
 "cells": [
  {
   "cell_type": "code",
   "execution_count": 1,
   "metadata": {},
   "outputs": [],
   "source": [
    "import pymongo"
   ]
  },
  {
   "cell_type": "code",
   "execution_count": 2,
   "metadata": {},
   "outputs": [],
   "source": [
    "from pymongo import MongoClient"
   ]
  },
  {
   "cell_type": "code",
   "execution_count": 3,
   "metadata": {},
   "outputs": [],
   "source": [
    "client = MongoClient('localhost')"
   ]
  },
  {
   "cell_type": "code",
   "execution_count": 4,
   "metadata": {},
   "outputs": [],
   "source": [
    " db = client.packt"
   ]
  },
  {
   "cell_type": "code",
   "execution_count": 5,
   "metadata": {},
   "outputs": [],
   "source": [
    "testCollection = db.testCollection"
   ]
  },
  {
   "cell_type": "code",
   "execution_count": 6,
   "metadata": {},
   "outputs": [
    {
     "data": {
      "text/plain": [
       "<pymongo.results.InsertOneResult at 0x7f04004ff608>"
      ]
     },
     "execution_count": 6,
     "metadata": {},
     "output_type": "execute_result"
    }
   ],
   "source": [
    "testCollection.insert_one({'name':'Alice','salary':50000})\n",
    "testCollection.insert_one({'name':'Bob','salary':40000})\n",
    "testCollection.insert_one({'name':'Charlie','salary':60000})"
   ]
  },
  {
   "cell_type": "code",
   "execution_count": 7,
   "metadata": {},
   "outputs": [],
   "source": [
    "res = testCollection.update_one({'name' : 'Alice'},{'$set' : {'salary':55000}})"
   ]
  },
  {
   "cell_type": "code",
   "execution_count": 8,
   "metadata": {},
   "outputs": [
    {
     "data": {
      "text/plain": [
       "True"
      ]
     },
     "execution_count": 8,
     "metadata": {},
     "output_type": "execute_result"
    }
   ],
   "source": [
    "res.acknowledged"
   ]
  },
  {
   "cell_type": "code",
   "execution_count": 9,
   "metadata": {},
   "outputs": [
    {
     "data": {
      "text/plain": [
       "{'_id': ObjectId('5dd2d65826fbfc5722a370d4'), 'name': 'Alice', 'salary': 55000}"
      ]
     },
     "execution_count": 9,
     "metadata": {},
     "output_type": "execute_result"
    }
   ],
   "source": [
    "testCollection.find_one({'name':'Alice'})"
   ]
  },
  {
   "cell_type": "code",
   "execution_count": 10,
   "metadata": {},
   "outputs": [
    {
     "data": {
      "text/plain": [
       "<pymongo.results.UpdateResult at 0x7f04002b3948>"
      ]
     },
     "execution_count": 10,
     "metadata": {},
     "output_type": "execute_result"
    }
   ],
   "source": [
    "testCollection.update_one({'name': 'Alice'}, {'$unset':{\"salary\":\"\"}})"
   ]
  },
  {
   "cell_type": "code",
   "execution_count": 11,
   "metadata": {},
   "outputs": [
    {
     "data": {
      "text/plain": [
       "{'_id': ObjectId('5dd2d65826fbfc5722a370d4'), 'name': 'Alice'}"
      ]
     },
     "execution_count": 11,
     "metadata": {},
     "output_type": "execute_result"
    }
   ],
   "source": [
    "testCollection.find_one({'name':'Alice'})"
   ]
  },
  {
   "cell_type": "code",
   "execution_count": 12,
   "metadata": {},
   "outputs": [
    {
     "data": {
      "text/plain": [
       "True"
      ]
     },
     "execution_count": 12,
     "metadata": {},
     "output_type": "execute_result"
    }
   ],
   "source": [
    "res.acknowledged"
   ]
  },
  {
   "cell_type": "code",
   "execution_count": 13,
   "metadata": {},
   "outputs": [],
   "source": [
    "pipeline=[]"
   ]
  },
  {
   "cell_type": "code",
   "execution_count": 14,
   "metadata": {},
   "outputs": [],
   "source": [
    "pipeline.append({\"$match\":{\"salary\":{'$exists':\"True\"}}})"
   ]
  },
  {
   "cell_type": "code",
   "execution_count": 15,
   "metadata": {},
   "outputs": [],
   "source": [
    "pipeline.append({'$group':{\"_id\":None,\"avSalary\":{\"$avg\":\"$salary\"},\"totalSalary\":{\"$sum\":\"$salary\"}}})"
   ]
  },
  {
   "cell_type": "code",
   "execution_count": 16,
   "metadata": {},
   "outputs": [],
   "source": [
    "cur = testCollection.aggregate(pipeline=pipeline)"
   ]
  },
  {
   "cell_type": "code",
   "execution_count": 17,
   "metadata": {},
   "outputs": [
    {
     "data": {
      "text/plain": [
       "{'_id': None, 'avSalary': 50000.0, 'totalSalary': 250000}"
      ]
     },
     "execution_count": 17,
     "metadata": {},
     "output_type": "execute_result"
    }
   ],
   "source": [
    "cur.next()"
   ]
  },
  {
   "cell_type": "code",
   "execution_count": 18,
   "metadata": {},
   "outputs": [
    {
     "name": "stdout",
     "output_type": "stream",
     "text": [
      "{'_id': ObjectId('5dd2d65826fbfc5722a370d4'), 'name': 'Alice'}\n",
      "{'_id': ObjectId('5dd2d65826fbfc5722a370d5'), 'name': 'Bob', 'salary': 40000}\n",
      "{'_id': ObjectId('5dd2d65826fbfc5722a370d6'), 'name': 'Charlie', 'salary': 60000}\n",
      "{'_id': ObjectId('5dd31dc1b0b1293c58ae5183'), 'name': 'Alice', 'salary': 50000}\n",
      "{'_id': ObjectId('5dd31dc1b0b1293c58ae5184'), 'name': 'Bob', 'salary': 40000}\n",
      "{'_id': ObjectId('5dd31dc1b0b1293c58ae5185'), 'name': 'Charlie', 'salary': 60000}\n"
     ]
    }
   ],
   "source": [
    "for d in testCollection.find():\n",
    "    print (d)"
   ]
  },
  {
   "cell_type": "code",
   "execution_count": 19,
   "metadata": {},
   "outputs": [],
   "source": [
    "testCollection.drop()"
   ]
  },
  {
   "cell_type": "code",
   "execution_count": 20,
   "metadata": {},
   "outputs": [
    {
     "data": {
      "text/plain": [
       "<pymongo.results.InsertOneResult at 0x7f04002e0d88>"
      ]
     },
     "execution_count": 20,
     "metadata": {},
     "output_type": "execute_result"
    }
   ],
   "source": [
    "testCollection.insert_one({'name':'Alice','salary':50000,'unit' : 'legal'})\n",
    "testCollection.insert_one({'name':'Bob','salary':40000,'unit' : 'marketing'})\n",
    "testCollection.insert_one({'name':'Charlie','salary':60000, 'unit' : 'communications'})\n",
    "testCollection.insert_one({'name' : 'David','salary' : 70000, 'unit' : 'legal'})\n",
    "testCollection.insert_one({'name':'Edwina','salary' : 90000, 'unit' : 'communications'})"
   ]
  },
  {
   "cell_type": "code",
   "execution_count": 22,
   "metadata": {},
   "outputs": [],
   "source": [
    "pipeline=[]\n",
    "pipeline.append(\n",
    "    {'$group':\n",
    "         {\"_id\":\"$unit\",\"avSalary\":\n",
    "              {\"$avg\":\"$salary\"},\"totlatSalary\":\n",
    "                  {\"$sum\":\"$salary\"}}})"
   ]
  },
  {
   "cell_type": "code",
   "execution_count": 23,
   "metadata": {},
   "outputs": [],
   "source": [
    "cur=testCollection.aggregate(pipeline=pipeline)"
   ]
  },
  {
   "cell_type": "code",
   "execution_count": 24,
   "metadata": {},
   "outputs": [
    {
     "name": "stdout",
     "output_type": "stream",
     "text": [
      "{'_id': 'communications', 'avSalary': 75000.0, 'totlatSalary': 150000}\n",
      "{'_id': 'legal', 'avSalary': 60000.0, 'totlatSalary': 120000}\n",
      "{'_id': 'marketing', 'avSalary': 40000.0, 'totlatSalary': 40000}\n"
     ]
    }
   ],
   "source": [
    "for d in cur:\n",
    "    print (d)"
   ]
  },
  {
   "cell_type": "code",
   "execution_count": 25,
   "metadata": {},
   "outputs": [
    {
     "data": {
      "text/plain": [
       "''"
      ]
     },
     "execution_count": 25,
     "metadata": {},
     "output_type": "execute_result"
    }
   ],
   "source": [
    "sc"
   ]
  },
  {
   "cell_type": "code",
   "execution_count": null,
   "metadata": {},
   "outputs": [],
   "source": []
  },
  {
   "cell_type": "code",
   "execution_count": null,
   "metadata": {},
   "outputs": [],
   "source": []
  }
 ],
 "metadata": {
  "kernelspec": {
   "display_name": "Python 3",
   "language": "python",
   "name": "python3"
  },
  "language_info": {
   "codemirror_mode": {
    "name": "ipython",
    "version": 3
   },
   "file_extension": ".py",
   "mimetype": "text/x-python",
   "name": "python",
   "nbconvert_exporter": "python",
   "pygments_lexer": "ipython3",
   "version": "3.7.3"
  }
 },
 "nbformat": 4,
 "nbformat_minor": 2
}
