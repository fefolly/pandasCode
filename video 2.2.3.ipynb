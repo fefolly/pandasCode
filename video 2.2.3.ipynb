{
 "cells": [
  {
   "cell_type": "markdown",
   "metadata": {},
   "source": [
    "<h2>Insert some documents</h2>"
   ]
  },
  {
   "cell_type": "code",
   "execution_count": 101,
   "metadata": {},
   "outputs": [],
   "source": [
    "import pymongo"
   ]
  },
  {
   "cell_type": "code",
   "execution_count": 137,
   "metadata": {},
   "outputs": [],
   "source": [
    "from pymongo import MongoClient"
   ]
  },
  {
   "cell_type": "code",
   "execution_count": 103,
   "metadata": {},
   "outputs": [],
   "source": [
    "client=MongoClient('localhost')"
   ]
  },
  {
   "cell_type": "code",
   "execution_count": 104,
   "metadata": {},
   "outputs": [],
   "source": [
    "db=client.packt"
   ]
  },
  {
   "cell_type": "code",
   "execution_count": 105,
   "metadata": {},
   "outputs": [],
   "source": [
    "testCollection=db.testCollection"
   ]
  },
  {
   "cell_type": "code",
   "execution_count": 106,
   "metadata": {},
   "outputs": [],
   "source": [
    "import random\n",
    "import string"
   ]
  },
  {
   "cell_type": "code",
   "execution_count": 107,
   "metadata": {},
   "outputs": [],
   "source": [
    "letters=list(string.ascii_lowercase)"
   ]
  },
  {
   "cell_type": "code",
   "execution_count": 108,
   "metadata": {},
   "outputs": [
    {
     "data": {
      "text/plain": [
       "['a', 'b', 'c', 'd', 'e', 'f', 'g', 'h', 'i', 'j']"
      ]
     },
     "execution_count": 108,
     "metadata": {},
     "output_type": "execute_result"
    }
   ],
   "source": [
    "letters[0:10]"
   ]
  },
  {
   "cell_type": "markdown",
   "metadata": {},
   "source": [
    "<h2>Insert many together</h2>"
   ]
  },
  {
   "cell_type": "code",
   "execution_count": 130,
   "metadata": {},
   "outputs": [],
   "source": [
    "res =testCollection.insert_many([{random.choice(letters):random.randint(1,10)} for i in range(10)])"
   ]
  },
  {
   "cell_type": "markdown",
   "metadata": {},
   "source": [
    "<h2>Retrieve Documents with a Cursor</h2>"
   ]
  },
  {
   "cell_type": "code",
   "execution_count": 131,
   "metadata": {},
   "outputs": [
    {
     "data": {
      "text/plain": [
       "True"
      ]
     },
     "execution_count": 131,
     "metadata": {},
     "output_type": "execute_result"
    }
   ],
   "source": [
    "res.acknowledged"
   ]
  },
  {
   "cell_type": "code",
   "execution_count": 132,
   "metadata": {},
   "outputs": [
    {
     "data": {
      "text/plain": [
       "[ObjectId('5da7161bc3a27d19d9810893'),\n",
       " ObjectId('5da7161bc3a27d19d9810894'),\n",
       " ObjectId('5da7161bc3a27d19d9810895'),\n",
       " ObjectId('5da7161bc3a27d19d9810896'),\n",
       " ObjectId('5da7161bc3a27d19d9810897'),\n",
       " ObjectId('5da7161bc3a27d19d9810898'),\n",
       " ObjectId('5da7161bc3a27d19d9810899'),\n",
       " ObjectId('5da7161bc3a27d19d981089a'),\n",
       " ObjectId('5da7161bc3a27d19d981089b'),\n",
       " ObjectId('5da7161bc3a27d19d981089c')]"
      ]
     },
     "execution_count": 132,
     "metadata": {},
     "output_type": "execute_result"
    }
   ],
   "source": [
    "res.inserted_ids"
   ]
  },
  {
   "cell_type": "code",
   "execution_count": 133,
   "metadata": {},
   "outputs": [],
   "source": [
    "cur=testCollection.find()"
   ]
  },
  {
   "cell_type": "code",
   "execution_count": 134,
   "metadata": {},
   "outputs": [
    {
     "data": {
      "text/plain": [
       "pymongo.cursor.Cursor"
      ]
     },
     "execution_count": 134,
     "metadata": {},
     "output_type": "execute_result"
    }
   ],
   "source": [
    "type(cur)"
   ]
  },
  {
   "cell_type": "code",
   "execution_count": 135,
   "metadata": {},
   "outputs": [
    {
     "name": "stderr",
     "output_type": "stream",
     "text": [
      "/home/fermat/anaconda3/lib/python3.7/site-packages/ipykernel_launcher.py:1: DeprecationWarning: count is deprecated. Use Collection.count_documents instead.\n",
      "  \"\"\"Entry point for launching an IPython kernel.\n"
     ]
    },
    {
     "data": {
      "text/plain": [
       "32"
      ]
     },
     "execution_count": 135,
     "metadata": {},
     "output_type": "execute_result"
    }
   ],
   "source": [
    "cur.count()"
   ]
  },
  {
   "cell_type": "code",
   "execution_count": 136,
   "metadata": {},
   "outputs": [
    {
     "name": "stdout",
     "output_type": "stream",
     "text": [
      "{'_id': ObjectId('5da6f533c3a27d19d981087f'), 't': 7}\n",
      "{'_id': ObjectId('5da6f533c3a27d19d9810880'), 'y': 1}\n",
      "{'_id': ObjectId('5da6f533c3a27d19d9810881'), 'q': 7}\n",
      "{'_id': ObjectId('5da6f533c3a27d19d9810882'), 'r': 5}\n",
      "{'_id': ObjectId('5da6f533c3a27d19d9810883'), 'g': 9}\n",
      "{'_id': ObjectId('5da6f533c3a27d19d9810884'), 'l': 5}\n",
      "{'_id': ObjectId('5da6f533c3a27d19d9810885'), 'i': 10}\n",
      "{'_id': ObjectId('5da6f533c3a27d19d9810886'), 'w': 3}\n",
      "{'_id': ObjectId('5da6f533c3a27d19d9810887'), 'd': 2}\n",
      "{'_id': ObjectId('5da6f533c3a27d19d9810888'), 'x': 3}\n",
      "{'_id': ObjectId('5da70d45c53c4f0358833914'), 'c': 3}\n",
      "{'_id': ObjectId('5da70e89c53c4f0358833915'), 'c': 3}\n",
      "{'_id': ObjectId('5da71411c3a27d19d9810889'), 'x': 1}\n",
      "{'_id': ObjectId('5da71411c3a27d19d981088a'), 'h': 4}\n",
      "{'_id': ObjectId('5da71411c3a27d19d981088b'), 'j': 10}\n",
      "{'_id': ObjectId('5da71411c3a27d19d981088c'), 'x': 5}\n",
      "{'_id': ObjectId('5da71411c3a27d19d981088d'), 'l': 5}\n",
      "{'_id': ObjectId('5da71411c3a27d19d981088e'), 'g': 5}\n",
      "{'_id': ObjectId('5da71411c3a27d19d981088f'), 'x': 4}\n",
      "{'_id': ObjectId('5da71411c3a27d19d9810890'), 'c': 5}\n",
      "{'_id': ObjectId('5da71411c3a27d19d9810891'), 'o': 4}\n",
      "{'_id': ObjectId('5da71411c3a27d19d9810892'), 'm': 9}\n",
      "{'_id': ObjectId('5da7161bc3a27d19d9810893'), 'v': 3}\n",
      "{'_id': ObjectId('5da7161bc3a27d19d9810894'), 'q': 7}\n",
      "{'_id': ObjectId('5da7161bc3a27d19d9810895'), 'n': 2}\n",
      "{'_id': ObjectId('5da7161bc3a27d19d9810896'), 'g': 8}\n",
      "{'_id': ObjectId('5da7161bc3a27d19d9810897'), 'w': 4}\n",
      "{'_id': ObjectId('5da7161bc3a27d19d9810898'), 'k': 5}\n",
      "{'_id': ObjectId('5da7161bc3a27d19d9810899'), 'r': 6}\n",
      "{'_id': ObjectId('5da7161bc3a27d19d981089a'), 'y': 4}\n",
      "{'_id': ObjectId('5da7161bc3a27d19d981089b'), 's': 5}\n",
      "{'_id': ObjectId('5da7161bc3a27d19d981089c'), 'i': 5}\n"
     ]
    }
   ],
   "source": [
    "for doc in cur :\n",
    "    print (doc)"
   ]
  },
  {
   "cell_type": "code",
   "execution_count": 138,
   "metadata": {},
   "outputs": [
    {
     "data": {
      "text/plain": [
       "False"
      ]
     },
     "execution_count": 138,
     "metadata": {},
     "output_type": "execute_result"
    }
   ],
   "source": [
    "cur.alive"
   ]
  },
  {
   "cell_type": "code",
   "execution_count": 139,
   "metadata": {},
   "outputs": [],
   "source": [
    "cur.close()"
   ]
  },
  {
   "cell_type": "code",
   "execution_count": 140,
   "metadata": {},
   "outputs": [],
   "source": [
    "db.testCollection.drop()"
   ]
  },
  {
   "cell_type": "code",
   "execution_count": null,
   "metadata": {},
   "outputs": [],
   "source": []
  }
 ],
 "metadata": {
  "kernelspec": {
   "display_name": "Python 3",
   "language": "python",
   "name": "python3"
  },
  "language_info": {
   "codemirror_mode": {
    "name": "ipython",
    "version": 3
   },
   "file_extension": ".py",
   "mimetype": "text/x-python",
   "name": "python",
   "nbconvert_exporter": "python",
   "pygments_lexer": "ipython3",
   "version": "3.7.3"
  }
 },
 "nbformat": 4,
 "nbformat_minor": 2
}
