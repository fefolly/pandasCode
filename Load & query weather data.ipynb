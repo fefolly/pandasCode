{
 "cells": [
  {
   "cell_type": "code",
   "execution_count": 2,
   "metadata": {},
   "outputs": [],
   "source": [
    "import requests,pprint,json,datetime,time\n",
    "import pymongo\n",
    "from pymongo import MongoClient\n",
    "#from secrets import *\n",
    "import secrets"
   ]
  },
  {
   "cell_type": "code",
   "execution_count": 3,
   "metadata": {},
   "outputs": [],
   "source": [
    "client = MongoClient('localhost')"
   ]
  },
  {
   "cell_type": "markdown",
   "metadata": {},
   "source": [
    "<h2>Acquiring data from an API"
   ]
  },
  {
   "cell_type": "code",
   "execution_count": 4,
   "metadata": {},
   "outputs": [],
   "source": [
    "city='London'\n",
    "cidyId='2643743'\n",
    "a = secrets.key"
   ]
  },
  {
   "cell_type": "code",
   "execution_count": 5,
   "metadata": {},
   "outputs": [],
   "source": [
    "#requestString='http://api.openweathermap.org/data/2.5/forecast?id=524901&APPID=%s' % (a)\n",
    "requestString=u'http://api.openweathermap.org/data/2.5/weather?q=%s&APPID=%s' % (city,a)"
   ]
  },
  {
   "cell_type": "code",
   "execution_count": 6,
   "metadata": {},
   "outputs": [],
   "source": [
    "res=requests.get(requestString)"
   ]
  },
  {
   "cell_type": "code",
   "execution_count": 7,
   "metadata": {},
   "outputs": [
    {
     "data": {
      "text/plain": [
       "'OK'"
      ]
     },
     "execution_count": 7,
     "metadata": {},
     "output_type": "execute_result"
    }
   ],
   "source": [
    "res.reason"
   ]
  },
  {
   "cell_type": "code",
   "execution_count": 8,
   "metadata": {},
   "outputs": [
    {
     "data": {
      "text/plain": [
       "200"
      ]
     },
     "execution_count": 8,
     "metadata": {},
     "output_type": "execute_result"
    }
   ],
   "source": [
    "res.status_code"
   ]
  },
  {
   "cell_type": "code",
   "execution_count": 9,
   "metadata": {},
   "outputs": [
    {
     "name": "stdout",
     "output_type": "stream",
     "text": [
      "{'base': 'stations',\n",
      " 'clouds': {'all': 100},\n",
      " 'cod': 200,\n",
      " 'coord': {'lat': 51.51, 'lon': -0.13},\n",
      " 'dt': 1574183889,\n",
      " 'id': 2643743,\n",
      " 'main': {'humidity': 81,\n",
      "          'pressure': 1016,\n",
      "          'temp': 277.67,\n",
      "          'temp_max': 279.82,\n",
      "          'temp_min': 275.37},\n",
      " 'name': 'London',\n",
      " 'rain': {},\n",
      " 'sys': {'country': 'GB',\n",
      "         'id': 1414,\n",
      "         'sunrise': 1574148288,\n",
      "         'sunset': 1574179629,\n",
      "         'type': 1},\n",
      " 'timezone': 0,\n",
      " 'visibility': 10000,\n",
      " 'weather': [{'description': 'overcast clouds',\n",
      "              'icon': '04n',\n",
      "              'id': 804,\n",
      "              'main': 'Clouds'}],\n",
      " 'wind': {'deg': 90, 'speed': 3.1}}\n"
     ]
    }
   ],
   "source": [
    "pprint.pprint(res.json())"
   ]
  },
  {
   "cell_type": "markdown",
   "metadata": {},
   "source": [
    "<h2> Require data according to City entered"
   ]
  },
  {
   "cell_type": "code",
   "execution_count": 10,
   "metadata": {},
   "outputs": [],
   "source": [
    "def getData(city):\n",
    "    requestString=u'http://api.openweathermap.org/data/2.5/weather?q=%s&APPID=%s' % (city,a)\n",
    "    \n",
    "    res=requests.get(requestString)\n",
    "    \n",
    "    return res"
   ]
  },
  {
   "cell_type": "code",
   "execution_count": 11,
   "metadata": {},
   "outputs": [],
   "source": [
    "res=getData('La paz')"
   ]
  },
  {
   "cell_type": "code",
   "execution_count": 12,
   "metadata": {},
   "outputs": [
    {
     "data": {
      "text/plain": [
       "200"
      ]
     },
     "execution_count": 12,
     "metadata": {},
     "output_type": "execute_result"
    }
   ],
   "source": [
    "res.status_code"
   ]
  },
  {
   "cell_type": "markdown",
   "metadata": {},
   "source": [
    "<h2>Ingesting weather data into MongoDB"
   ]
  },
  {
   "cell_type": "code",
   "execution_count": 13,
   "metadata": {},
   "outputs": [],
   "source": [
    "client=MongoClient('localhost')\n",
    "db=client.packt"
   ]
  },
  {
   "cell_type": "code",
   "execution_count": 14,
   "metadata": {},
   "outputs": [],
   "source": [
    "weatherCollection=db.weather"
   ]
  },
  {
   "cell_type": "code",
   "execution_count": 15,
   "metadata": {},
   "outputs": [
    {
     "data": {
      "text/plain": [
       "{'coord': {'lon': -110.32, 'lat': 24.15},\n",
       " 'weather': [{'id': 802,\n",
       "   'main': 'Clouds',\n",
       "   'description': 'scattered clouds',\n",
       "   'icon': '03d'}],\n",
       " 'base': 'stations',\n",
       " 'main': {'temp': 299.5,\n",
       "  'pressure': 1014,\n",
       "  'humidity': 74,\n",
       "  'temp_min': 299.15,\n",
       "  'temp_max': 299.82},\n",
       " 'visibility': 16093,\n",
       " 'wind': {'speed': 1.5, 'deg': 260},\n",
       " 'clouds': {'all': 40},\n",
       " 'dt': 1574183899,\n",
       " 'sys': {'type': 1,\n",
       "  'id': 7137,\n",
       "  'country': 'MX',\n",
       "  'sunrise': 1574170762,\n",
       "  'sunset': 1574210055},\n",
       " 'timezone': -25200,\n",
       " 'id': 4000900,\n",
       " 'name': 'La Paz',\n",
       " 'cod': 200}"
      ]
     },
     "execution_count": 15,
     "metadata": {},
     "output_type": "execute_result"
    }
   ],
   "source": [
    "res.json()"
   ]
  },
  {
   "cell_type": "code",
   "execution_count": 17,
   "metadata": {},
   "outputs": [],
   "source": [
    "#success = weatherCollection.insert_one(res.json())\n",
    "#success = weatherCollection."
   ]
  },
  {
   "cell_type": "code",
   "execution_count": 18,
   "metadata": {},
   "outputs": [
    {
     "data": {
      "text/plain": [
       "True"
      ]
     },
     "execution_count": 18,
     "metadata": {},
     "output_type": "execute_result"
    }
   ],
   "source": [
    "success.acknowledged"
   ]
  },
  {
   "cell_type": "markdown",
   "metadata": {},
   "source": [
    "<h2> Get list of cities"
   ]
  },
  {
   "cell_type": "code",
   "execution_count": 94,
   "metadata": {},
   "outputs": [
    {
     "name": "stdout",
     "output_type": "stream",
     "text": [
      "--2019-10-21 17:37:11--  http://bulk.openweathermap.org/sample/city.list.json.gz\n",
      "Resolving bulk.openweathermap.org (bulk.openweathermap.org)... 136.243.88.22\n",
      "Connecting to bulk.openweathermap.org (bulk.openweathermap.org)|136.243.88.22|:80... connected.\n",
      "HTTP request sent, awaiting response... 200 OK\n",
      "Length: 4292641 (4,1M) [text/plain]\n",
      "Saving to: ‘city.list.json.gz’\n",
      "\n",
      "city.list.json.gz   100%[===================>]   4,09M  3,17MB/s    in 1,3s    \n",
      "\n",
      "2019-10-21 17:37:13 (3,17 MB/s) - ‘city.list.json.gz’ saved [4292641/4292641]\n",
      "\n"
     ]
    }
   ],
   "source": [
    "!wget http://bulk.openweathermap.org/sample/city.list.json.gz"
   ]
  },
  {
   "cell_type": "code",
   "execution_count": 98,
   "metadata": {},
   "outputs": [],
   "source": [
    "!gunzip city.list.json.gz"
   ]
  },
  {
   "cell_type": "code",
   "execution_count": 99,
   "metadata": {},
   "outputs": [
    {
     "name": "stdout",
     "output_type": "stream",
     "text": [
      "[\r\n",
      "  {\r\n",
      "    \"id\": 707860,\r\n",
      "    \"name\": \"Hurzuf\",\r\n",
      "    \"country\": \"UA\",\r\n",
      "    \"coord\": {\r\n",
      "      \"lon\": 34.283333,\r\n",
      "      \"lat\": 44.549999\r\n",
      "    }\r\n",
      "  },\r\n"
     ]
    }
   ],
   "source": [
    "!head city.list.json"
   ]
  },
  {
   "cell_type": "code",
   "execution_count": 19,
   "metadata": {},
   "outputs": [],
   "source": [
    "with open('city.list.json','r') as inFile:\n",
    "    citiesJson=json.loads(inFile.read())"
   ]
  },
  {
   "cell_type": "code",
   "execution_count": 20,
   "metadata": {},
   "outputs": [
    {
     "data": {
      "text/plain": [
       "{'id': 707860,\n",
       " 'name': 'Hurzuf',\n",
       " 'country': 'UA',\n",
       " 'coord': {'lon': 34.283333, 'lat': 44.549999}}"
      ]
     },
     "execution_count": 20,
     "metadata": {},
     "output_type": "execute_result"
    }
   ],
   "source": [
    "citiesJson[0]"
   ]
  },
  {
   "cell_type": "code",
   "execution_count": 21,
   "metadata": {},
   "outputs": [
    {
     "data": {
      "text/plain": [
       "list"
      ]
     },
     "execution_count": 21,
     "metadata": {},
     "output_type": "execute_result"
    }
   ],
   "source": [
    "type(citiesJson)"
   ]
  },
  {
   "cell_type": "code",
   "execution_count": 22,
   "metadata": {},
   "outputs": [
    {
     "data": {
      "text/plain": [
       "209579"
      ]
     },
     "execution_count": 22,
     "metadata": {},
     "output_type": "execute_result"
    }
   ],
   "source": [
    "len(citiesJson)"
   ]
  },
  {
   "cell_type": "markdown",
   "metadata": {},
   "source": [
    "<h2>Limit to CHilean cities"
   ]
  },
  {
   "cell_type": "code",
   "execution_count": 23,
   "metadata": {},
   "outputs": [],
   "source": [
    "citiesJsonCL=list(filter(lambda x:x[u'country']==u'CL',citiesJson))"
   ]
  },
  {
   "cell_type": "code",
   "execution_count": 24,
   "metadata": {},
   "outputs": [
    {
     "data": {
      "text/plain": [
       "369"
      ]
     },
     "execution_count": 24,
     "metadata": {},
     "output_type": "execute_result"
    }
   ],
   "source": [
    "len(citiesJsonCL)"
   ]
  },
  {
   "cell_type": "code",
   "execution_count": 25,
   "metadata": {},
   "outputs": [],
   "source": [
    "cities=list(map(lambda x:x['name'],citiesJsonCL))\n",
    "ids=list(map(lambda x:x['id'],citiesJsonCL))"
   ]
  },
  {
   "cell_type": "code",
   "execution_count": 26,
   "metadata": {},
   "outputs": [],
   "source": [
    "res=getData(cities[0])"
   ]
  },
  {
   "cell_type": "code",
   "execution_count": 27,
   "metadata": {},
   "outputs": [
    {
     "data": {
      "text/plain": [
       "<Response [200]>"
      ]
     },
     "execution_count": 27,
     "metadata": {},
     "output_type": "execute_result"
    }
   ],
   "source": [
    "res"
   ]
  },
  {
   "cell_type": "markdown",
   "metadata": {},
   "source": [
    "<h2>Cycle through cities"
   ]
  },
  {
   "cell_type": "code",
   "execution_count": 95,
   "metadata": {},
   "outputs": [
    {
     "name": "stdout",
     "output_type": "stream",
     "text": [
      "Error grabbing data for Longavi\n",
      "Not Found\n",
      "Error grabbing data for Machali\n",
      "Not Found\n",
      "Error grabbing data for Vicuna\n",
      "Not Found\n",
      "Error grabbing data for Villa Presidente Frei, Nunoa, Santiago, Chile\n",
      "Not Found\n"
     ]
    }
   ],
   "source": [
    "for i, name in zip(ids,cities):\n",
    "    \n",
    "    res=getData(name) \n",
    "    \n",
    "    if not res.status_code==200:\n",
    "        print ('Error grabbing data for %s' %name)\n",
    "        print (res.reason)            \n",
    "    \n",
    "    else:\n",
    "        try:\n",
    "            weatherCollection.insert_one(res.json()) \n",
    "        except e:\n",
    "            print ('Error inserting into DB' % e)\n",
    "            print ('city %s' % name)\n",
    "            \n",
    "    time.sleep(1)\n",
    "    #sleep so we do not thrash the API"
   ]
  },
  {
   "cell_type": "code",
   "execution_count": 97,
   "metadata": {},
   "outputs": [
    {
     "name": "stderr",
     "output_type": "stream",
     "text": [
      "/home/fermat/anaconda3/lib/python3.7/site-packages/ipykernel_launcher.py:1: DeprecationWarning: count is deprecated. Use estimated_document_count or count_documents instead. Please note that $where must be replaced by $expr, $near must be replaced by $geoWithin with $center, and $nearSphere must be replaced by $geoWithin with $centerSphere\n",
      "  \"\"\"Entry point for launching an IPython kernel.\n"
     ]
    },
    {
     "data": {
      "text/plain": [
       "2689"
      ]
     },
     "execution_count": 97,
     "metadata": {},
     "output_type": "execute_result"
    }
   ],
   "source": [
    "weatherCollection.count()"
   ]
  },
  {
   "cell_type": "code",
   "execution_count": 98,
   "metadata": {},
   "outputs": [],
   "source": [
    "weatherCollection=db.weatherCollection\n",
    "#weatherCollection=db.weatherPast"
   ]
  },
  {
   "cell_type": "code",
   "execution_count": 99,
   "metadata": {},
   "outputs": [
    {
     "name": "stderr",
     "output_type": "stream",
     "text": [
      "/home/fermat/anaconda3/lib/python3.7/site-packages/ipykernel_launcher.py:1: DeprecationWarning: count is deprecated. Use estimated_document_count or count_documents instead. Please note that $where must be replaced by $expr, $near must be replaced by $geoWithin with $center, and $nearSphere must be replaced by $geoWithin with $centerSphere\n",
      "  \"\"\"Entry point for launching an IPython kernel.\n"
     ]
    },
    {
     "data": {
      "text/plain": [
       "2689"
      ]
     },
     "execution_count": 99,
     "metadata": {},
     "output_type": "execute_result"
    }
   ],
   "source": [
    "weatherCollection.count()"
   ]
  },
  {
   "cell_type": "code",
   "execution_count": 100,
   "metadata": {},
   "outputs": [],
   "source": [
    "def getTimestamp(dt):\n",
    "    return pd.datetime.fromtimestamp(dt)"
   ]
  },
  {
   "cell_type": "code",
   "execution_count": 101,
   "metadata": {},
   "outputs": [],
   "source": [
    "def getDate(tstamp):\n",
    "    dt=datetime.datetime.fromtimestamp(tstamp)\n",
    "    return dt.strftime('%b %d - %H:%m')"
   ]
  },
  {
   "cell_type": "markdown",
   "metadata": {},
   "source": [
    "<h2>Querying MongoDB for useful information"
   ]
  },
  {
   "cell_type": "code",
   "execution_count": 1,
   "metadata": {},
   "outputs": [
    {
     "ename": "NameError",
     "evalue": "name 'weatherCollection' is not defined",
     "output_type": "error",
     "traceback": [
      "\u001b[0;31m---------------------------------------------------------------------------\u001b[0m",
      "\u001b[0;31mNameError\u001b[0m                                 Traceback (most recent call last)",
      "\u001b[0;32m<ipython-input-1-f7acb160fd74>\u001b[0m in \u001b[0;36m<module>\u001b[0;34m\u001b[0m\n\u001b[0;32m----> 1\u001b[0;31m \u001b[0mcur\u001b[0m\u001b[0;34m=\u001b[0m\u001b[0mweatherCollection\u001b[0m\u001b[0;34m.\u001b[0m\u001b[0mfind\u001b[0m\u001b[0;34m(\u001b[0m\u001b[0;34m)\u001b[0m\u001b[0;34m\u001b[0m\u001b[0;34m\u001b[0m\u001b[0m\n\u001b[0m",
      "\u001b[0;31mNameError\u001b[0m: name 'weatherCollection' is not defined"
     ]
    }
   ],
   "source": [
    "cur=weatherCollection.find()"
   ]
  },
  {
   "cell_type": "code",
   "execution_count": 103,
   "metadata": {},
   "outputs": [],
   "source": [
    "sortedCur=cur.sort('main.temp')"
   ]
  },
  {
   "cell_type": "code",
   "execution_count": 106,
   "metadata": {},
   "outputs": [
    {
     "name": "stdout",
     "output_type": "stream",
     "text": [
      "Las Animas\n",
      "263.65\n",
      "Las Animas\n",
      "265.5\n",
      "Las Animas\n",
      "265.88\n",
      "Las Animas\n",
      "265.88\n",
      "Las Animas\n",
      "265.98\n",
      "Las Animas\n",
      "265.98\n",
      "Las Animas\n",
      "266\n",
      "Las Animas\n",
      "266\n",
      "Las Animas\n",
      "266.08\n",
      "Las Animas\n",
      "269.17\n"
     ]
    }
   ],
   "source": [
    "for doc in sortedCur.limit(10):\n",
    "    try:\n",
    "        print (doc['name'])\n",
    "        print (doc['main']['temp'])\n",
    "    except:\n",
    "        print ('Error: missing name/temp')"
   ]
  },
  {
   "cell_type": "code",
   "execution_count": 110,
   "metadata": {},
   "outputs": [
    {
     "name": "stderr",
     "output_type": "stream",
     "text": [
      "/home/fermat/anaconda3/lib/python3.7/site-packages/ipykernel_launcher.py:1: DeprecationWarning: count is deprecated. Use Collection.count_documents instead.\n",
      "  \"\"\"Entry point for launching an IPython kernel.\n"
     ]
    },
    {
     "data": {
      "text/plain": [
       "2689"
      ]
     },
     "execution_count": 110,
     "metadata": {},
     "output_type": "execute_result"
    }
   ],
   "source": [
    "cur.count()"
   ]
  },
  {
   "cell_type": "markdown",
   "metadata": {},
   "source": [
    "<h2>Find the max recorded temperatures over time per station"
   ]
  },
  {
   "cell_type": "code",
   "execution_count": 117,
   "metadata": {},
   "outputs": [],
   "source": [
    "pipeline=[]\n",
    "pipeline.append({'$group':{'_id':'$name','maxTemp':{'$max':'$main.temp'}}})\n",
    "#Group measurements by city name, extract maximum recorded temp for each\n",
    "pipeline.append({'$limit':10})\n",
    "#Limit results to first 10 cities"
   ]
  },
  {
   "cell_type": "code",
   "execution_count": 118,
   "metadata": {},
   "outputs": [],
   "source": [
    "cur = weatherCollection.aggregate(pipeline=pipeline)"
   ]
  },
  {
   "cell_type": "code",
   "execution_count": 121,
   "metadata": {},
   "outputs": [
    {
     "name": "stdout",
     "output_type": "stream",
     "text": [
      "Barrio Bellavista 304.33\n",
      "Provincia de Santiago 302.84\n",
      "Ostrov Paskhi 295.15\n",
      "Las Gaviotas 299.15\n",
      "Santiago 296.63\n",
      "Palena 287.15\n",
      "Balmaceda 284.73\n",
      "Chucumata 292.15\n",
      "Santa Teresa de Lo Ovalle 299.24\n"
     ]
    }
   ],
   "source": [
    "for d in cur:\n",
    "    print (d['_id'],d['maxTemp'])"
   ]
  },
  {
   "cell_type": "markdown",
   "metadata": {},
   "source": [
    "<h2>Get datetime of max temp per station"
   ]
  },
  {
   "cell_type": "code",
   "execution_count": 122,
   "metadata": {},
   "outputs": [],
   "source": [
    "pipeline=[]\n",
    "pipeline.append({'$match':{'name':{'$exists':True}}})\n",
    "#Filter out dirty rows\n",
    "pipeline.append({'$sort':{'name':1,'main.temp':-1}})\n",
    "#Sort by name (esc) and temperature (asc)\n",
    "pipeline.append({'$group':{'_id':'$name','maxTemp':{'$first':'$main.temp'},'date':{'$first':'$dt'}}})\n",
    "#Group by name, grab maximum temperature and date of temperature\n",
    "#Sorted by temp so grab first document from each group\n",
    "pipeline.append({'$limit':10})\n",
    "#limit to first 10 cities"
   ]
  },
  {
   "cell_type": "code",
   "execution_count": 128,
   "metadata": {},
   "outputs": [],
   "source": [
    "cur=weatherCollection.aggregate(pipeline=pipeline)"
   ]
  },
  {
   "cell_type": "code",
   "execution_count": 129,
   "metadata": {},
   "outputs": [
    {
     "name": "stdout",
     "output_type": "stream",
     "text": [
      "Oct 30 - 22:10 Villa Paulina 299.23\n",
      "\n",
      "Oct 31 - 00:10 Villa Alhué 297.15\n",
      "\n",
      "Oct 30 - 22:10 Villa Alemana 298.02\n",
      "\n",
      "Oct 30 - 22:10 Villa Alegre 293.5\n",
      "\n",
      "Oct 30 - 14:10 Victoria 301.37\n",
      "\n",
      "Oct 30 - 22:10 Vichuquén 291.02\n",
      "\n",
      "Oct 30 - 22:10 Tongoy 290.15\n",
      "\n",
      "Oct 30 - 22:10 Tongoicillo 290.15\n",
      "\n",
      "Oct 30 - 14:10 Tome 284.15\n",
      "\n",
      "Oct 30 - 22:10 Teno 296.15\n",
      "\n"
     ]
    }
   ],
   "source": [
    "for d in cur:\n",
    "    print (getDate(d['date']),d['_id'],d['maxTemp'])\n",
    "    print ('')"
   ]
  },
  {
   "cell_type": "markdown",
   "metadata": {},
   "source": [
    "<h2>Do sanity check for one city"
   ]
  },
  {
   "cell_type": "code",
   "execution_count": 131,
   "metadata": {},
   "outputs": [
    {
     "name": "stdout",
     "output_type": "stream",
     "text": [
      "Oct 30 - 14:10  288.52\n",
      "Oct 30 - 22:10  299.23\n",
      "Oct 30 - 22:10  299.23\n",
      "Oct 30 - 22:10  299.15\n",
      "Oct 30 - 22:10  299.15\n",
      "Oct 30 - 23:10  298.66\n",
      "Oct 30 - 23:10  298.66\n",
      "Oct 30 - 23:10  298.11\n",
      "Oct 30 - 23:10  298.62\n"
     ]
    }
   ],
   "source": [
    "for d in weatherCollection.find({'name':'Villa Paulina'}):\n",
    "    print (getDate(d['dt']),'',d['main']['temp'])"
   ]
  },
  {
   "cell_type": "code",
   "execution_count": null,
   "metadata": {},
   "outputs": [],
   "source": []
  },
  {
   "cell_type": "code",
   "execution_count": null,
   "metadata": {},
   "outputs": [],
   "source": []
  },
  {
   "cell_type": "code",
   "execution_count": null,
   "metadata": {},
   "outputs": [],
   "source": []
  },
  {
   "cell_type": "code",
   "execution_count": null,
   "metadata": {},
   "outputs": [],
   "source": []
  },
  {
   "cell_type": "code",
   "execution_count": null,
   "metadata": {},
   "outputs": [],
   "source": []
  },
  {
   "cell_type": "code",
   "execution_count": null,
   "metadata": {},
   "outputs": [],
   "source": []
  },
  {
   "cell_type": "code",
   "execution_count": null,
   "metadata": {},
   "outputs": [],
   "source": []
  },
  {
   "cell_type": "code",
   "execution_count": null,
   "metadata": {},
   "outputs": [],
   "source": []
  },
  {
   "cell_type": "code",
   "execution_count": null,
   "metadata": {},
   "outputs": [],
   "source": []
  },
  {
   "cell_type": "code",
   "execution_count": null,
   "metadata": {},
   "outputs": [],
   "source": []
  },
  {
   "cell_type": "code",
   "execution_count": null,
   "metadata": {},
   "outputs": [],
   "source": []
  },
  {
   "cell_type": "code",
   "execution_count": null,
   "metadata": {},
   "outputs": [],
   "source": []
  },
  {
   "cell_type": "code",
   "execution_count": null,
   "metadata": {},
   "outputs": [],
   "source": []
  },
  {
   "cell_type": "code",
   "execution_count": null,
   "metadata": {},
   "outputs": [],
   "source": []
  },
  {
   "cell_type": "code",
   "execution_count": null,
   "metadata": {},
   "outputs": [],
   "source": []
  }
 ],
 "metadata": {
  "kernelspec": {
   "display_name": "Python 3",
   "language": "python",
   "name": "python3"
  },
  "language_info": {
   "codemirror_mode": {
    "name": "ipython",
    "version": 3
   },
   "file_extension": ".py",
   "mimetype": "text/x-python",
   "name": "python",
   "nbconvert_exporter": "python",
   "pygments_lexer": "ipython3",
   "version": "3.7.3"
  }
 },
 "nbformat": 4,
 "nbformat_minor": 2
}
