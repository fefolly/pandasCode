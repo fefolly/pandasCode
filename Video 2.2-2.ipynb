{
 "cells": [
  {
   "cell_type": "markdown",
   "metadata": {},
   "source": [
    "<h2>Importing the library pymongo"
   ]
  },
  {
   "cell_type": "code",
   "execution_count": 4,
   "metadata": {},
   "outputs": [],
   "source": [
    "import pymongo"
   ]
  },
  {
   "cell_type": "code",
   "execution_count": 5,
   "metadata": {},
   "outputs": [
    {
     "data": {
      "text/plain": [
       "'3.9.0'"
      ]
     },
     "execution_count": 5,
     "metadata": {},
     "output_type": "execute_result"
    }
   ],
   "source": [
    "pymongo.version"
   ]
  },
  {
   "cell_type": "code",
   "execution_count": 6,
   "metadata": {},
   "outputs": [],
   "source": [
    "from pymongo import MongoClient"
   ]
  },
  {
   "cell_type": "code",
   "execution_count": 7,
   "metadata": {},
   "outputs": [],
   "source": [
    "client = MongoClient('localhost')\n",
    "#Could connect to a DB with any arbitrary URL or port number here"
   ]
  },
  {
   "cell_type": "code",
   "execution_count": 8,
   "metadata": {},
   "outputs": [],
   "source": [
    "db = client.packt\n",
    "# This is lazy : packt database does not exist yet! "
   ]
  },
  {
   "cell_type": "code",
   "execution_count": 9,
   "metadata": {},
   "outputs": [],
   "source": [
    "testCollection = db.testCollection\n",
    "#This is also lazy: testCollection does not exist yet"
   ]
  },
  {
   "cell_type": "code",
   "execution_count": 10,
   "metadata": {
    "scrolled": true
   },
   "outputs": [
    {
     "data": {
      "text/plain": [
       "<pymongo.results.InsertOneResult at 0x7f91600442c8>"
      ]
     },
     "execution_count": 10,
     "metadata": {},
     "output_type": "execute_result"
    }
   ],
   "source": [
    "testCollection.insert_one({'b':2})"
   ]
  },
  {
   "cell_type": "code",
   "execution_count": 11,
   "metadata": {},
   "outputs": [
    {
     "data": {
      "text/plain": [
       "<pymongo.results.InsertOneResult at 0x7f9164ddb4c8>"
      ]
     },
     "execution_count": 11,
     "metadata": {},
     "output_type": "execute_result"
    }
   ],
   "source": [
    "testCollection.insert_one({'a':1})"
   ]
  },
  {
   "cell_type": "code",
   "execution_count": 14,
   "metadata": {},
   "outputs": [
    {
     "data": {
      "text/plain": [
       "{'_id': ObjectId('5dd31dd1b0b1293c58ae5186'),\n",
       " 'name': 'Alice',\n",
       " 'salary': 50000,\n",
       " 'unit': 'legal'}"
      ]
     },
     "execution_count": 14,
     "metadata": {},
     "output_type": "execute_result"
    }
   ],
   "source": [
    "testCollection.find_one()"
   ]
  },
  {
   "cell_type": "code",
   "execution_count": 15,
   "metadata": {},
   "outputs": [
    {
     "name": "stderr",
     "output_type": "stream",
     "text": [
      "/home/fermat/anaconda3/lib/python3.7/site-packages/ipykernel_launcher.py:1: DeprecationWarning: count is deprecated. Use estimated_document_count or count_documents instead. Please note that $where must be replaced by $expr, $near must be replaced by $geoWithin with $center, and $nearSphere must be replaced by $geoWithin with $centerSphere\n",
      "  \"\"\"Entry point for launching an IPython kernel.\n"
     ]
    },
    {
     "data": {
      "text/plain": [
       "7"
      ]
     },
     "execution_count": 15,
     "metadata": {},
     "output_type": "execute_result"
    }
   ],
   "source": [
    "testCollection.count()"
   ]
  },
  {
   "cell_type": "code",
   "execution_count": 16,
   "metadata": {},
   "outputs": [
    {
     "name": "stdout",
     "output_type": "stream",
     "text": [
      "{'_id': ObjectId('5dd31dd1b0b1293c58ae5186'), 'name': 'Alice', 'salary': 50000, 'unit': 'legal'}\n",
      "{'_id': ObjectId('5dd31dd1b0b1293c58ae5187'), 'name': 'Bob', 'salary': 40000, 'unit': 'marketing'}\n",
      "{'_id': ObjectId('5dd31dd1b0b1293c58ae5188'), 'name': 'Charlie', 'salary': 60000, 'unit': 'communications'}\n",
      "{'_id': ObjectId('5dd31dd1b0b1293c58ae5189'), 'name': 'David', 'salary': 70000, 'unit': 'legal'}\n",
      "{'_id': ObjectId('5dd31dd1b0b1293c58ae518a'), 'name': 'Edwina', 'salary': 90000, 'unit': 'communications'}\n",
      "{'_id': ObjectId('5df4402cef016580ac801a8d'), 'b': 2}\n",
      "{'_id': ObjectId('5df4402eef016580ac801a8e'), 'a': 1}\n"
     ]
    }
   ],
   "source": [
    "cur=db.testCollection.find()\n",
    "\n",
    "for doc in cur:\n",
    "    print (doc) "
   ]
  },
  {
   "cell_type": "code",
   "execution_count": 30,
   "metadata": {},
   "outputs": [
    {
     "name": "stdout",
     "output_type": "stream",
     "text": [
      "{'_id': ObjectId('5da86df90915cf1e2f181291'), 'name': 'Alice', 'salary': 50000, 'unit': 'legal'}\n",
      "{'_id': ObjectId('5da86df90915cf1e2f181292'), 'name': 'Bob', 'salary': 40000, 'unit': 'marketing'}\n",
      "{'_id': ObjectId('5da86df90915cf1e2f181293'), 'name': 'Charlie', 'salary': 60000, 'unit': 'communications'}\n",
      "{'_id': ObjectId('5da86df90915cf1e2f181294'), 'name': 'David', 'salary': 70000, 'unit': 'legal'}\n",
      "{'_id': ObjectId('5da86df90915cf1e2f181295'), 'name': 'Edwina', 'salary': 90000, 'unit': 'communications'}\n",
      "{'_id': ObjectId('5da9d8a298bff53f8312167f'), 'b': 2}\n",
      "{'_id': ObjectId('5da9d8ef98bff53f83121681'), 'b': 2}\n",
      "{'_id': ObjectId('5da9d8f098bff53f83121682'), 'a': 1}\n"
     ]
    }
   ],
   "source": [
    "cur.rewind()\n",
    "\n",
    "for doc in cur:\n",
    "    print (doc)"
   ]
  },
  {
   "cell_type": "code",
   "execution_count": 31,
   "metadata": {},
   "outputs": [],
   "source": [
    "res = testCollection.insert_one({'c':3}) "
   ]
  },
  {
   "cell_type": "code",
   "execution_count": 32,
   "metadata": {},
   "outputs": [
    {
     "data": {
      "text/plain": [
       "ObjectId('5da9d8f398bff53f83121683')"
      ]
     },
     "execution_count": 32,
     "metadata": {},
     "output_type": "execute_result"
    }
   ],
   "source": [
    "res.inserted_id"
   ]
  },
  {
   "cell_type": "code",
   "execution_count": 33,
   "metadata": {},
   "outputs": [],
   "source": [
    "testCollection.find_one({'x':3})"
   ]
  },
  {
   "cell_type": "code",
   "execution_count": 34,
   "metadata": {},
   "outputs": [
    {
     "data": {
      "text/plain": [
       "{'_id': ObjectId('5da9d8f398bff53f83121683')}"
      ]
     },
     "execution_count": 34,
     "metadata": {},
     "output_type": "execute_result"
    }
   ],
   "source": [
    "testCollection.find_one({'c':3},{'_id':1})"
   ]
  },
  {
   "cell_type": "code",
   "execution_count": 35,
   "metadata": {},
   "outputs": [
    {
     "name": "stdout",
     "output_type": "stream",
     "text": [
      "'Load & query weather data.ipynb'  'video 2.2.3.ipynb'\r\n",
      " \u001b[0m\u001b[01;34m__pycache__\u001b[0m/                      'video 2.2.4.ipynb'\r\n",
      " secrets.py                        'video 2.2.5 exception and errors .ipynb'\r\n",
      "'Video 2.2-2.ipynb'\r\n"
     ]
    }
   ],
   "source": [
    "%ls"
   ]
  },
  {
   "cell_type": "code",
   "execution_count": 36,
   "metadata": {},
   "outputs": [
    {
     "data": {
      "text/plain": [
       "{'ns': 'packt.testCollection', 'nIndexesWas': 1, 'ok': 1.0}"
      ]
     },
     "execution_count": 36,
     "metadata": {},
     "output_type": "execute_result"
    }
   ],
   "source": [
    "db.drop_collection('testCollection')"
   ]
  },
  {
   "cell_type": "code",
   "execution_count": 37,
   "metadata": {},
   "outputs": [
    {
     "data": {
      "text/plain": [
       "{'ok': 0.0,\n",
       " 'errmsg': 'ns not found',\n",
       " 'code': 26,\n",
       " 'codeName': 'NamespaceNotFound'}"
      ]
     },
     "execution_count": 37,
     "metadata": {},
     "output_type": "execute_result"
    }
   ],
   "source": [
    "db.drop_collection('testCollection')"
   ]
  },
  {
   "cell_type": "code",
   "execution_count": 38,
   "metadata": {},
   "outputs": [],
   "source": [
    "client.drop_database('packt')"
   ]
  },
  {
   "cell_type": "code",
   "execution_count": null,
   "metadata": {},
   "outputs": [],
   "source": []
  },
  {
   "cell_type": "code",
   "execution_count": null,
   "metadata": {},
   "outputs": [],
   "source": []
  }
 ],
 "metadata": {
  "kernelspec": {
   "display_name": "Python 3",
   "language": "python",
   "name": "python3"
  },
  "language_info": {
   "codemirror_mode": {
    "name": "ipython",
    "version": 3
   },
   "file_extension": ".py",
   "mimetype": "text/x-python",
   "name": "python",
   "nbconvert_exporter": "python",
   "pygments_lexer": "ipython3",
   "version": "3.7.3"
  }
 },
 "nbformat": 4,
 "nbformat_minor": 2
}
